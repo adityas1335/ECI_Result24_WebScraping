{
 "cells": [
  {
   "cell_type": "code",
   "execution_count": 3,
   "id": "a1491fe5",
   "metadata": {},
   "outputs": [],
   "source": [
    "import requests\n",
    "from bs4 import BeautifulSoup\n",
    "import csv"
   ]
  },
  {
   "cell_type": "code",
   "execution_count": 5,
   "id": "8d971f41",
   "metadata": {},
   "outputs": [
    {
     "name": "stdout",
     "output_type": "stream",
     "text": [
      "Enter ECR Link: https://results.eci.gov.in/PcResultGenJune2024/ConstituencywiseS018.htm\n"
     ]
    }
   ],
   "source": [
    "# URL of the webpage to scrape\n",
    "url = input(\"Enter ECR Link: \")"
   ]
  },
  {
   "cell_type": "code",
   "execution_count": 10,
   "id": "66c050a8",
   "metadata": {},
   "outputs": [
    {
     "name": "stdout",
     "output_type": "stream",
     "text": [
      "Enter ECR Link: https://results.eci.gov.in/PcResultGenJune2024/ConstituencywiseS0112.htm\n",
      "Data extracted and saved to CR_Andhra Pradesh_Vijayawada.csv\n"
     ]
    }
   ],
   "source": [
    "# URL of the webpage to scrape\n",
    "url = input(\"Enter ECR Link: \")\n",
    "\n",
    "# Requesting the webpage content\n",
    "response = requests.get(url)\n",
    "soup = BeautifulSoup(response.content, \"html.parser\")\n",
    "\n",
    "# Extract state and parliamentary constituency name\n",
    "header = soup.find(\"div\", class_=\"page-title\")\n",
    "if header:\n",
    "    h2_tag = header.find(\"h2\")\n",
    "    if h2_tag:\n",
    "        # Extract text from the span and strong tags within the h2 tag\n",
    "        span_tag = h2_tag.find(\"span\")\n",
    "        strong_tag = h2_tag.find(\"strong\")\n",
    "        \n",
    "        if span_tag and strong_tag:\n",
    "            # Get the raw text of pc_name and state\n",
    "            pc_name_raw = span_tag.get_text(strip=True).strip()\n",
    "            state = strong_tag.get_text(strip=True).strip('()')\n",
    "            \n",
    "            # Remove leading numeric characters, hyphens, and state information from pc_name\n",
    "            pc_name = pc_name_raw.split('-')[1].split('(')[0].strip()\n",
    "\n",
    "        else:\n",
    "            raise ValueError(\"Could not find the span or strong tag with state and pc_name information\")\n",
    "    else:\n",
    "        raise ValueError(\"Could not find the h2 tag with state and pc_name information\")\n",
    "else:\n",
    "    raise ValueError(\"Could not find the header with state and pc_name\")\n",
    "\n",
    "# Extract the table data\n",
    "table = soup.find(\"table\")  # Adjust the selector if necessary\n",
    "if not table:\n",
    "    raise ValueError(\"Could not find the results table\")\n",
    "\n",
    "rows = table.find_all(\"tr\")[1:]  # Exclude header row\n",
    "\n",
    "data = []\n",
    "total_votes_sum = 0  # Initialize the sum of total votes\n",
    "\n",
    "def parse_int(value):\n",
    "    return int(value.replace(\",\", \"\")) if value != '-' else 0\n",
    "\n",
    "def parse_float(value):\n",
    "    return float(value) if value != '-' else 0.0\n",
    "\n",
    "for row in rows:\n",
    "    cols = row.find_all(\"td\")\n",
    "    if len(cols) < 7:  # Ensuring there are enough columns\n",
    "        continue\n",
    "\n",
    "    evm_votes = parse_int(cols[3].get_text(strip=True))\n",
    "    postal_votes = parse_int(cols[4].get_text(strip=True))\n",
    "    total_votes = parse_int(cols[5].get_text(strip=True))\n",
    "    per_votes = parse_float(cols[6].get_text(strip=True))\n",
    "    \n",
    "    total_votes_sum += total_votes  # Add to the sum of total votes\n",
    "    \n",
    "    data.append([\n",
    "        state,\n",
    "        pc_name,\n",
    "        cols[1].get_text(strip=True),  # Candidate\n",
    "        cols[2].get_text(strip=True),  # Party\n",
    "        evm_votes,\n",
    "        postal_votes,\n",
    "        total_votes,\n",
    "        per_votes\n",
    "    ])\n",
    "\n",
    "# Add the sum of total votes as a new column for each row\n",
    "for row in data:\n",
    "    row.append(total_votes_sum)\n",
    "\n",
    "# Save the data into a CSV file with a combined name\n",
    "file_name = f\"CR_{state}_{pc_name.replace(' ', '_')}.csv\"\n",
    "with open(file_name, \"w\", newline='') as file:\n",
    "    writer = csv.writer(file)\n",
    "    writer.writerow([\"state\", \"pc_name\", \"candidate\", \"party\", \"evm_votes\", \"postal_votes\", \"total_votes\", \"per_votes\", \"sum_totalvotes\"])\n",
    "    writer.writerows(data)\n",
    "\n",
    "print(f\"Data extracted and saved to {file_name}\")\n"
   ]
  },
  {
   "cell_type": "code",
   "execution_count": null,
   "id": "9fa29d0b",
   "metadata": {},
   "outputs": [],
   "source": []
  }
 ],
 "metadata": {
  "kernelspec": {
   "display_name": "Python 3 (ipykernel)",
   "language": "python",
   "name": "python3"
  },
  "language_info": {
   "codemirror_mode": {
    "name": "ipython",
    "version": 3
   },
   "file_extension": ".py",
   "mimetype": "text/x-python",
   "name": "python",
   "nbconvert_exporter": "python",
   "pygments_lexer": "ipython3",
   "version": "3.11.7"
  }
 },
 "nbformat": 4,
 "nbformat_minor": 5
}
